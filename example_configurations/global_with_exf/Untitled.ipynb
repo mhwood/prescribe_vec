{
 "cells": [
  {
   "cell_type": "markdown",
   "id": "infectious-anaheim",
   "metadata": {},
   "source": [
    "# prescribe_vec_example: global_with_exf"
   ]
  },
  {
   "cell_type": "markdown",
   "id": "assumed-loading",
   "metadata": {},
   "source": [
    "In this demo of prescribe_vec, we will run a simple global model with external forcing conditions for 1 month. Next, we will use output from the global model to replicate a subdomain of simulation. prescribevec will be used to prescribe boundary conditions in 2 later - the size of the computaitonal stencil."
   ]
  },
  {
   "cell_type": "markdown",
   "id": "mobile-newman",
   "metadata": {},
   "source": [
    "## Set up\n",
    "To run this experiment, begin by cloning a fresh MITgcm copy and the `prescribe_vec` directory. In addition, this example uses the `diagnostics_vec` package, so also clone this directory."
   ]
  },
  {
   "cell_type": "raw",
   "id": "handed-mileage",
   "metadata": {},
   "source": [
    "git clone https://github.com/MITgcm/MITgcm.git\n",
    "git clone https://github.com/mhwood/prescribe_vec.git\n",
    "git clone https://github.com/mhwood/diagnostics_vec.git"
   ]
  },
  {
   "cell_type": "markdown",
   "id": "durable-studio",
   "metadata": {},
   "source": [
    "## Add packages to MITgcm\n",
    "To add the `prescribe_vec` and `diagnostics_vec` packages to the fresh MITgcm clone, use the Python utilities provided with each package:"
   ]
  },
  {
   "cell_type": "raw",
   "id": "convenient-pillow",
   "metadata": {},
   "source": [
    "cd diagnostics_vec/utils\n",
    "python copy_pkg_files_to_MITgcm.py -m ../../MITgcm\n",
    "\n",
    "cd ../../prescribe_vec/utils\n",
    "python copy_pkg_files_to_MITgcm.py -m ../../MITgcm"
   ]
  },
  {
   "cell_type": "markdown",
   "id": "democratic-adapter",
   "metadata": {},
   "source": [
    "# Global Model\n",
    "In the first part of this example, we run the tutorial forward for 30 days. This simulation is nearly identical to the verification experiment provided with MITgcm except that it uses the `diagnostics_vec` package to output the boundary conditions to be used for the subdomain. Accordingly, the code and input directories only have 5 files which differ from the verification experiement:\n",
    "1. code/packages.conf - diagnostics_vec is added\n",
    "2. code/SIZE.h (this experiment runs with mpi)\n",
    "3. input/data (modified to run for 1 month with deltaT = 1200 s)\n",
    "4. input/data.pkg - useDiagnostics_vec is set to .TRUE.\n",
    "5. prepare_run\n",
    "\n",
    "In addition, there are 3 new files associated with the diagnostics_vec package:\n",
    "1. code/DIAGNOSTICS_VEC_SIZE.h\n",
    "2. input/data.diagnostics_vec\n",
    "3. create_dv_masks.py\n",
    "\n",
    "To create the setup, first run the `prepare_run` script to collect all of the code and input files from the core tutorial. Note that this scripts expects the `prescribe_vec` and `MITgcm` clones (from above) to be in the same directory."
   ]
  },
  {
   "cell_type": "raw",
   "id": "saved-medicaid",
   "metadata": {},
   "source": [
    "cd prescribe_vec/example_configurations/global_with_exf/global/input\n",
    "bash prepare_run"
   ]
  },
  {
   "cell_type": "markdown",
   "id": "historical-convert",
   "metadata": {},
   "source": [
    "Next, create the masks for the diagnostics vec package (this will output boundary conditions for the regional model)."
   ]
  },
  {
   "cell_type": "raw",
   "id": "isolated-upper",
   "metadata": {},
   "source": [
    "python create_dv_masks.py"
   ]
  },
  {
   "cell_type": "markdown",
   "id": "antique-massage",
   "metadata": {},
   "source": [
    "Next, build the model according to the specifications of your machine, e.g."
   ]
  },
  {
   "cell_type": "raw",
   "id": "looking-seller",
   "metadata": {},
   "source": [
    "cd ..\n",
    "mkdir build\n",
    "cd build\n",
    "../../../../../MITgcm/tools/genmake2 -mods ../code -mpi -optfile ../../../../../MITgcm/tools/build_options/darwin_amd64_gfortran_mw -rootdir ../../../../../MITgcm\n",
    "make depend\n",
    "make\n",
    "cd .."
   ]
  },
  {
   "cell_type": "markdown",
   "id": "future-frontier",
   "metadata": {},
   "source": [
    "Finally, run the model:"
   ]
  },
  {
   "cell_type": "raw",
   "id": "complete-investigator",
   "metadata": {},
   "source": [
    "mkdir run\n",
    "cd run\n",
    "cp -r ../input/dv .\n",
    "ln -s ../input/* .\n",
    "mpirun -np 2 ../build/mitgcmuv"
   ]
  },
  {
   "cell_type": "code",
   "execution_count": null,
   "id": "normal-jewel",
   "metadata": {},
   "outputs": [],
   "source": []
  }
 ],
 "metadata": {
  "kernelspec": {
   "display_name": "mitgcm",
   "language": "python",
   "name": "mitgcm"
  },
  "language_info": {
   "codemirror_mode": {
    "name": "ipython",
    "version": 3
   },
   "file_extension": ".py",
   "mimetype": "text/x-python",
   "name": "python",
   "nbconvert_exporter": "python",
   "pygments_lexer": "ipython3",
   "version": "3.8.10"
  }
 },
 "nbformat": 4,
 "nbformat_minor": 5
}
