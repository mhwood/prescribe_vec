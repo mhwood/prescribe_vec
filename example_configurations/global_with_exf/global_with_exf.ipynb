{
 "cells": [
  {
   "cell_type": "markdown",
   "id": "strange-possibility",
   "metadata": {},
   "source": [
    "# `prescribe_vec` example: global_with_exf"
   ]
  },
  {
   "cell_type": "markdown",
   "id": "martial-access",
   "metadata": {},
   "source": [
    "In this demo of `prescribe_vec`, we will run a simple global model with external forcing conditions for 1 month. Next, we will use output from the global model to replicate a subdomain of the simulation. `prescribe_vec` will be used to prescribe boundary conditions in 2 layers - the size of the computational stencil."
   ]
  },
  {
   "cell_type": "markdown",
   "id": "463333f1",
   "metadata": {},
   "source": [
    "# Contents\n",
    "1. Section 1: Setup\\\n",
    "    1.1 Clone required repositories\\\n",
    "    1.2 Add packages to MITgcm\n",
    "2. Section 2: The Global Model\\\n",
    "    2.1 Setup the global model\\\n",
    "    2.2 Build the global model\n",
    "    2.3 Run the global model\\\n",
    "3. Section 3: The Regional Model\\\n",
    "    3.1 Setup the regional model\\\n",
    "    3.2 Build the regional model\\\n",
    "    3.3 Run the regional model\n",
    "4. Section 4: Solution comparison\\\n",
    "    4.1 Create comparison functions\n"
   ]
  },
  {
   "cell_type": "markdown",
   "id": "3d222616",
   "metadata": {},
   "source": [
    "# Section 1: Setup"
   ]
  },
  {
   "cell_type": "markdown",
   "id": "cosmetic-curtis",
   "metadata": {},
   "source": [
    "## 1.1 Clone required repositories\n",
    "To run this experiment, begin by cloning a fresh MITgcm copy and the `prescribe_vec` directory. In addition, this example uses the `diagnostics_vec` package, so also clone this directory."
   ]
  },
  {
   "cell_type": "raw",
   "id": "occupied-somewhere",
   "metadata": {},
   "source": [
    "git clone https://github.com/MITgcm/MITgcm.git\n",
    "git clone https://github.com/mhwood/prescribe_vec.git\n",
    "git clone https://github.com/mhwood/diagnostics_vec.git"
   ]
  },
  {
   "cell_type": "markdown",
   "id": "increased-plaza",
   "metadata": {},
   "source": [
    "## 1.2 Add packages to MITgcm\n",
    "To add the `prescribe_vec` and `diagnostics_vec` packages to the fresh MITgcm clone, use the Python utilities provided with each package:"
   ]
  },
  {
   "cell_type": "raw",
   "id": "removed-differential",
   "metadata": {},
   "source": [
    "cd diagnostics_vec/utils\n",
    "python copy_pkg_files_to_MITgcm.py -m ../../MITgcm\n",
    "\n",
    "cd ../../prescribe_vec/utils\n",
    "python copy_pkg_files_to_MITgcm.py -m ../../MITgcm\n",
    "python add_prescribe_vec_to_boot_sequence.py -m ../../MITgcm -c ../example_configurations/global_with_exf/regional\n",
    "python add_prescribe_vec_to_main_loop.py -m ../../MITgcm -c ../example_configurations/global_with_exf/regional\n",
    "cd .."
   ]
  },
  {
   "cell_type": "markdown",
   "id": "enclosed-capability",
   "metadata": {},
   "source": [
    "# Section 2: The Global Model\n",
    "\n",
    "## 2.1: Setup the global model\n",
    "In the first part of this example, we run the tutorial forward for 30 days. This simulation is nearly identical to the verification experiment provided with MITgcm except that it uses the `diagnostics_vec` package to output the boundary conditions to be used for the subdomain. Accordingly, the code and input directories only have 6 files which differ from the verification experiement:\n",
    "1. code/packages.conf - diagnostics_vec is added\n",
    "2. code/SIZE.h (this experiment runs with mpi)\n",
    "3. input/data (modified to run for 1 month with deltaT = 1200 s)\n",
    "4. input/data.pkg - useDiagnostics_vec is set to .TRUE.\n",
    "5. input/data.exf\n",
    "6. prepare_run\n",
    "\n",
    "In addition, there are 3 new files associated with the diagnostics_vec package:\n",
    "1. code/DIAGNOSTICS_VEC_SIZE.h\n",
    "2. input/data.diagnostics_vec\n",
    "3. create_dv_masks.py\n",
    "\n",
    "To create the setup, first run the `prepare_run` script to collect all of the code and input files from the core tutorial. Note that this scripts expects the `prescribe_vec` and `MITgcm` clones (from above) to be in the same directory."
   ]
  },
  {
   "cell_type": "raw",
   "id": "rotary-wright",
   "metadata": {},
   "source": [
    "cd prescribe_vec/example_configurations/global_with_exf/global/input\n",
    "bash prepare_run"
   ]
  },
  {
   "cell_type": "markdown",
   "id": "municipal-slave",
   "metadata": {},
   "source": [
    "Next, create the masks for the diagnostics vec package (this will output boundary conditions for the regional model)."
   ]
  },
  {
   "cell_type": "raw",
   "id": "horizontal-rendering",
   "metadata": {},
   "source": [
    "python create_dv_masks.py"
   ]
  },
  {
   "cell_type": "markdown",
   "id": "1c1987f0",
   "metadata": {},
   "source": [
    "### 2.1.1. Plot the diagnostices_vec masks\n",
    "To observe the locations where the diagnostics_vec package will output data on each mask, we can plot the masks on the global bathymetry:\n"
   ]
  },
  {
   "cell_type": "code",
   "execution_count": 1,
   "id": "720a21a1",
   "metadata": {},
   "outputs": [
    {
     "data": {
      "image/png": "[encoded data removed]",
      "text/plain": [
       "<Figure size 864x432 with 1 Axes>"
      ]
     },
     "metadata": {
      "needs_background": "light"
     },
     "output_type": "display_data"
    }
   ],
   "source": [
    "import os\n",
    "import matplotlib.pyplot as plt\n",
    "import numpy as np\n",
    "\n",
    "example_dir = os.getcwd()\n",
    "mask_name = 'north' # choose north, south, east, or west\n",
    "layer = 2\n",
    "\n",
    "plt.figure(figsize=(12,6))\n",
    "\n",
    "bathy_path = os.path.join(example_dir,'global','input','bathymetry.bin')\n",
    "bathy_grid = np.fromfile(bathy_path,'>f4').reshape((40,90))\n",
    "plt.imshow(bathy_grid,origin='lower',cmap='Blues_r')\n",
    "\n",
    "if layer==0:\n",
    "    mask_path = os.path.join(example_dir,'global','input','dv', mask_name+'_mask.bin')\n",
    "else:\n",
    "    mask_path = os.path.join(example_dir,'global','input','dv', mask_name+'_mask_i'+str(layer)+'.bin')\n",
    "\n",
    "mask_grid = np.fromfile(mask_path,'>f4').reshape((40,90))\n",
    "mask_grid = np.ma.masked_where(mask_grid==0, mask_grid)\n",
    "plt.imshow(mask_grid, origin='lower')\n",
    "\n",
    "plt.title('diagnostic_vec mask: '+mask_name+' mask on layer '+str(layer))\n",
    "plt.show()"
   ]
  },
  {
   "cell_type": "markdown",
   "id": "statewide-cleanup",
   "metadata": {},
   "source": [
    "## 2.2 Build the global model\n",
    "\n",
    "Next, build the model according to the specifications of your machine, e.g."
   ]
  },
  {
   "cell_type": "raw",
   "id": "opposite-uncle",
   "metadata": {},
   "source": [
    "cd ..\n",
    "mkdir build\n",
    "cd build\n",
    "../../../../../MITgcm/tools/genmake2 -mods ../code -mpi -optfile ../../../../../MITgcm/tools/build_options/darwin_amd64_gfortran_mw -rootdir ../../../../../MITgcm\n",
    "make depend\n",
    "make\n",
    "cd .."
   ]
  },
  {
   "cell_type": "markdown",
   "id": "spatial-posting",
   "metadata": {},
   "source": [
    "## 2.3 Run the global model\n",
    "Finally, run the model:"
   ]
  },
  {
   "cell_type": "raw",
   "id": "composed-royalty",
   "metadata": {},
   "source": [
    "mkdir run\n",
    "cd run\n",
    "mkdir diags\n",
    "mkdir diags/diagsEXF\n",
    "mkdir diags/diagsDyn\n",
    "cp -r ../input/dv .\n",
    "ln -s ../input/* .\n",
    "mpirun -np 2 ../build/mitgcmuv\n",
    "cd .."
   ]
  },
  {
   "cell_type": "markdown",
   "id": "absent-transsexual",
   "metadata": {},
   "source": [
    "# Section 3: The Regional Model\n",
    "\n",
    "## 3.1 Setup the regional model\n",
    "Next, the output from the global model will be used to prescribe the external forcing and boundary conditions for the regional model. First, we will create the regional model fields in the following steps:\n",
    "1. Subset bathymetry and hydography fields from the global to regional domain; create exf conditions\n",
    "2. Create boundary conditions from the global model output to be applied with the prescribe_vec package\n",
    "3. Copy unchanged files from the core tutorial\n",
    "\n",
    "There are three convenient scripts in the regional/input directory which carry out the steps above:"
   ]
  },
  {
   "cell_type": "raw",
   "id": "bearing-password",
   "metadata": {},
   "source": [
    "cd ../regional/input\n",
    "python subset_regional_fields.py\n",
    "python create_pv_files.py\n",
    "bash prepare_run"
   ]
  },
  {
   "cell_type": "markdown",
   "id": "paperback-nudist",
   "metadata": {},
   "source": [
    "### 3.1.1 The prescribe_vec masks\n",
    "The prescribe vec masks are constructed by sequentially enumerating points in the domain in the order in which they are aligned in the presciption fields. In this example, boundary layers are prescribed in a series of 4 masks which are enumerated from the exterior of the domain to the interior:"
   ]
  },
  {
   "cell_type": "code",
   "execution_count": 2,
   "id": "useful-means",
   "metadata": {},
   "outputs": [
    {
     "data": {
      "image/png": "[encoded data removed]",
      "text/plain": [
       "<Figure size 1080x288 with 8 Axes>"
      ]
     },
     "metadata": {
      "needs_background": "light"
     },
     "output_type": "display_data"
    }
   ],
   "source": [
    "rows = 20\n",
    "cols = 40\n",
    "\n",
    "plt.figure(figsize=(15,4))\n",
    "\n",
    "masks = ['north','east','south','west']\n",
    "for m in range(len(masks)):\n",
    "    mask_grid = np.fromfile(os.path.join(example_dir,'regional','input','bcs','BC_'+masks[m]+'.bin'),'>f4')\n",
    "    mask_grid = np.reshape(mask_grid,(rows,cols))\n",
    "    mask_grid = np.ma.masked_where(mask_grid==0, mask_grid)\n",
    "    plt.subplot(1,4,m+1)\n",
    "    C = plt.imshow(mask_grid,origin='lower')\n",
    "    plt.colorbar(C,fraction=0.026, pad=0.04)\n",
    "    plt.title(masks[m]+' mask')\n",
    "\n",
    "\n",
    "plt.show()"
   ]
  },
  {
   "cell_type": "markdown",
   "id": "17c4acd6",
   "metadata": {},
   "source": [
    "## 3.1.2 The prescribe_vec fields\n",
    "The masks above can be compared to the respective files that are prescribed on these masks:"
   ]
  },
  {
   "cell_type": "code",
   "execution_count": 3,
   "id": "bbc1d2ef",
   "metadata": {},
   "outputs": [
    {
     "data": {
      "image/png": "[encoded data removed]",
      "text/plain": [
       "<Figure size 1080x288 with 3 Axes>"
      ]
     },
     "metadata": {
      "needs_background": "light"
     },
     "output_type": "display_data"
    }
   ],
   "source": [
    "mask_name = 'north' # choose north, south, east, or west\n",
    "var_name = 'Theta' # choose Theta, Salt, Uvel, Vvel, or Etan\n",
    "Nr = 15\n",
    "n_timesteps = 2160\n",
    "plot_timestep = 1117\n",
    "layers = 3\n",
    "if mask_name in ['north','south']:\n",
    "    N = 40\n",
    "if mask_name in ['west','east']:\n",
    "    N = 20\n",
    "var_name_to_bounds = {'Uvel':[-0.2,0.2],'Vvel':[-0.2,0.2],'Theta':[1,20],'Salt':[32.5,36]}\n",
    "var_name_to_cmap = {'Uvel':'seismic','Vvel':'seismic','Theta':'viridis','Salt':'viridis'}\n",
    "\n",
    "file_path = os.path.join(example_dir,'regional','input','bcs','BC_'+mask_name+'_'+var_name.upper()+'.bin')\n",
    "pv_grid = np.fromfile(file_path,'>f4').reshape((n_timesteps,Nr,layers*N))\n",
    "\n",
    "fig = plt.figure(figsize=(15,4))\n",
    "\n",
    "plt.subplot(2,1,1)\n",
    "plot_grid = pv_grid[plot_timestep,:,:]\n",
    "plot_grid = np.ma.masked_where(plot_grid==0, plot_grid)\n",
    "C = plt.imshow(plot_grid,cmap=var_name_to_cmap[var_name],\n",
    "               vmin=var_name_to_bounds[var_name][0],vmax=var_name_to_bounds[var_name][1])\n",
    "plt.colorbar(C,fraction=0.026, pad=0.04)\n",
    "plt.text(N/2,1,'layer 1',ha='center',va='top',color='w')\n",
    "plt.text(N+N/2,1,'layer 2',ha='center',va='top',color='w')\n",
    "plt.text(2*N+N/2,1,'layer 3',ha='center',va='top',color='w')\n",
    "plt.title('Prescribe_vec '+var_name+' field on the '+mask_name+' mask')\n",
    "\n",
    "plt.subplot(2,3,5)\n",
    "bathy_path = os.path.join(example_dir,'regional','input','bathymetry.bin')\n",
    "bathy_grid = np.fromfile(bathy_path,'>f4').reshape((20,40))\n",
    "plt.imshow(bathy_grid,origin='lower',cmap='Blues_r')\n",
    "plt.title('Bathymetry')\n",
    "plt.show()"
   ]
  },
  {
   "cell_type": "markdown",
   "id": "ab03aba4",
   "metadata": {},
   "source": [
    "## 3.2 Build the regional model"
   ]
  },
  {
   "cell_type": "markdown",
   "id": "parliamentary-vector",
   "metadata": {},
   "source": [
    "Next, build the model as was done for the global model"
   ]
  },
  {
   "cell_type": "raw",
   "id": "informed-value",
   "metadata": {},
   "source": [
    "cd ..\n",
    "mkdir build\n",
    "cd build\n",
    "../../../../../MITgcm/tools/genmake2 -mods ../code -mpi -optfile ../../../../../MITgcm/tools/build_options/darwin_amd64_gfortran_mw -rootdir ../../../../../MITgcm\n",
    "make depend\n",
    "make\n",
    "cd .."
   ]
  },
  {
   "cell_type": "markdown",
   "id": "aging-apparatus",
   "metadata": {},
   "source": [
    "## 3.3 Run the regional model\n",
    "Now, the model is ready to run:"
   ]
  },
  {
   "cell_type": "raw",
   "id": "processed-repository",
   "metadata": {},
   "source": [
    "mkdir run\n",
    "cd run\n",
    "mkdir diags\n",
    "mkdir diags/diagsDyn\n",
    "ln -s ../input/* .\n",
    "mpirun -np 4 ../build/mitgcmuv"
   ]
  },
  {
   "cell_type": "markdown",
   "id": "grateful-optimization",
   "metadata": {},
   "source": [
    "# Section 4: Solution Comparison\n",
    "In this section, we compare solutions between the global model and the regional model. First, we make functions to read in the solutions and plot them. Then, we use an interactive slide to observe the solution through time.\n",
    "\n",
    "## 4.1 Create comparison functions\n",
    "\n",
    "### 4.1.1 Function to read solution"
   ]
  },
  {
   "cell_type": "code",
   "execution_count": 4,
   "id": "becoming-conversion",
   "metadata": {},
   "outputs": [],
   "source": [
    "def read_solution_from_domain(example_dir,domain_name,var_name,n_timesteps):\n",
    "    grid_level = ['UVEL','VVEL','THETA','SALT'].index(var_name.upper())\n",
    "    if domain_name == 'global':\n",
    "        rows = 40\n",
    "        cols = 90\n",
    "    if domain_name == 'regional':\n",
    "        rows = 20\n",
    "        cols = 40\n",
    "    solution_grid = np.zeros((n_timesteps,rows,cols))\n",
    "    for timestep in range(n_timesteps):\n",
    "        file_name = os.path.join(example_dir,domain_name,'run','diags','diagsDyn',\n",
    "                                'diagsDyn.'+'{:010d}'.format(timestep+1)+'.data')\n",
    "        grid = np.fromfile(file_name,'>f4')\n",
    "        grid = grid.reshape((4,rows,cols))\n",
    "        grid = grid[grid_level,:,:]\n",
    "        solution_grid[timestep,:,:] = grid\n",
    "    if domain_name=='global':\n",
    "        min_row = 10\n",
    "        max_row = 29\n",
    "        min_col= 25\n",
    "        max_col = 64\n",
    "        solution_grid = solution_grid[:,min_row:max_row+1,min_col:max_col+1]\n",
    "    return(solution_grid)\n",
    "    "
   ]
  },
  {
   "cell_type": "markdown",
   "id": "economic-baptist",
   "metadata": {},
   "source": [
    "### 4.1.2 Function to plot solution comparison"
   ]
  },
  {
   "cell_type": "code",
   "execution_count": 45,
   "id": "effective-planning",
   "metadata": {},
   "outputs": [],
   "source": [
    "from matplotlib.gridspec import GridSpec\n",
    "\n",
    "def plot_solution_panel(time,global_soln,regional_soln,var_name):\n",
    "    \n",
    "    var_name_to_bounds = {'Uvel':[-0.2,0.2]}\n",
    "    plt.figure(figsize=(15,6))\n",
    "    plt.subplot(2,3,1)\n",
    "    C = plt.imshow(global_soln[time,:,:],origin='lower',\n",
    "               vmin=var_name_to_bounds[var_name][0],vmax=var_name_to_bounds[var_name][1])\n",
    "    plt.colorbar(C,fraction=0.026, pad=0.04)\n",
    "    plt.title('Global Solution\\n(subset to regional)')\n",
    "    \n",
    "    plt.subplot(2,3,2)\n",
    "    C = plt.imshow(regional_soln[time,:,:],origin='lower',\n",
    "               vmin=var_name_to_bounds[var_name][0],vmax=var_name_to_bounds[var_name][1])\n",
    "    plt.colorbar(C,fraction=0.026, pad=0.04)\n",
    "    plt.title('Regional Solution')\n",
    "    \n",
    "    plt.subplot(2,3,3)\n",
    "    difference_matrix = global_soln-regional_soln\n",
    "    C = plt.imshow(difference_matrix[time,:,:],origin='lower',cmap='seismic',\n",
    "               vmin=var_name_to_bounds[var_name][0],vmax=var_name_to_bounds[var_name][1])\n",
    "    plt.colorbar(C,fraction=0.026, pad=0.04)\n",
    "    plt.title('Global - Regional\\nDifference')\n",
    "    \n",
    "    plt.subplot(2,3,4)\n",
    "    test_row = 10\n",
    "    test_col = 22\n",
    "    global_timeseries = global_soln[:,test_row,test_col]\n",
    "    regional_timeseries = regional_soln[:,test_row,test_col]\n",
    "    plt.plot(global_timeseries,label='global')\n",
    "    plt.plot(regional_timeseries,label='regional')\n",
    "    min_val = np.min([np.min(global_timeseries),np.min(regional_timeseries)])\n",
    "    max_val = np.max([np.max(global_timeseries),np.max(regional_timeseries)])\n",
    "    plt.plot([time,time],[min_val,max_val],'k--')\n",
    "    plt.legend()\n",
    "    plt.title('Timeseries at row = '+str(test_row)+', col = '+str(test_col))\n",
    "    \n",
    "    \n",
    "    plt.subplot(2,3,6)\n",
    "    C = plt.imshow(difference_matrix[time,:,:]==0,origin='lower',cmap='Greys_r',vmin=0,vmax=1)\n",
    "    plt.colorbar(C,fraction=0.026, pad=0.04)\n",
    "    plt.title('Difference Mask (1 = no difference)')\n",
    "    plt.show()"
   ]
  },
  {
   "cell_type": "markdown",
   "id": "18a7b765",
   "metadata": {},
   "source": [
    "## 4.2 Compare Global vs Regional Solutions"
   ]
  },
  {
   "cell_type": "code",
   "execution_count": 46,
   "id": "transsexual-garlic",
   "metadata": {},
   "outputs": [
    {
     "data": {
      "application/vnd.jupyter.widget-view+json": {
       "model_id": "99584394b7cd49fbab839f078e6f9c75",
       "version_major": 2,
       "version_minor": 0
      },
      "text/plain": [
       "interactive(children=(IntSlider(value=0, description='time', max=18), Output()), _dom_classes=('widget-interac…"
      ]
     },
     "metadata": {},
     "output_type": "display_data"
    },
    {
     "data": {
      "text/plain": [
       "<function __main__.plot_solution_panel(time, global_soln, regional_soln, var_name)>"
      ]
     },
     "execution_count": 46,
     "metadata": {},
     "output_type": "execute_result"
    }
   ],
   "source": [
    "from ipywidgets import interact, interactive, fixed, interact_manual\n",
    "import ipywidgets as widgets\n",
    "\n",
    "n_timesteps = 19\n",
    "var_name = 'Uvel'\n",
    "global_solution = read_solution_from_domain(example_dir,'global',var_name,n_timesteps)\n",
    "regional_solution = read_solution_from_domain(example_dir,'regional',var_name,n_timesteps)\n",
    "timesteps = np.arange(n_timesteps)\n",
    "interact(plot_solution_panel,\n",
    "         time=widgets.IntSlider(min=0, max=n_timesteps-1, step=1, value=0),\n",
    "         global_soln = fixed(global_solution),\n",
    "         regional_soln = fixed(regional_solution),\n",
    "         var_name = fixed(var_name))\n"
   ]
  },
  {
   "cell_type": "code",
   "execution_count": null,
   "id": "exceptional-pathology",
   "metadata": {},
   "outputs": [],
   "source": []
  },
  {
   "cell_type": "code",
   "execution_count": null,
   "id": "10e35aae",
   "metadata": {},
   "outputs": [],
   "source": []
  }
 ],
 "metadata": {
  "kernelspec": {
   "display_name": "mitgcm",
   "language": "python",
   "name": "mitgcm"
  },
  "language_info": {
   "codemirror_mode": {
    "name": "ipython",
    "version": 3
   },
   "file_extension": ".py",
   "mimetype": "text/x-python",
   "name": "python",
   "nbconvert_exporter": "python",
   "pygments_lexer": "ipython3",
   "version": "3.9.7"
  }
 },
 "nbformat": 4,
 "nbformat_minor": 5
}
