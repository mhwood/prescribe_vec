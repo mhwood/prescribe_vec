{
 "cells": [
  {
   "cell_type": "markdown",
   "id": "strange-possibility",
   "metadata": {},
   "source": [
    "# prescribe_vec_example: global_with_exf"
   ]
  },
  {
   "cell_type": "markdown",
   "id": "martial-access",
   "metadata": {},
   "source": [
    "In this demo of prescribe_vec, we will run a simple global model with external forcing conditions for 1 month. Next, we will use output from the global model to replicate a subdomain of the simulation. `prescribe_vec` will be used to prescribe boundary conditions in 2 layers - the size of the computational stencil."
   ]
  },
  {
   "cell_type": "markdown",
   "id": "cosmetic-curtis",
   "metadata": {},
   "source": [
    "## Set up\n",
    "To run this experiment, begin by cloning a fresh MITgcm copy and the `prescribe_vec` directory. In addition, this example uses the `diagnostics_vec` package, so also clone this directory."
   ]
  },
  {
   "cell_type": "raw",
   "id": "occupied-somewhere",
   "metadata": {},
   "source": [
    "git clone https://github.com/MITgcm/MITgcm.git\n",
    "git clone https://github.com/mhwood/prescribe_vec.git\n",
    "git clone https://github.com/mhwood/diagnostics_vec.git"
   ]
  },
  {
   "cell_type": "markdown",
   "id": "increased-plaza",
   "metadata": {},
   "source": [
    "## Add packages to MITgcm\n",
    "To add the `prescribe_vec` and `diagnostics_vec` packages to the fresh MITgcm clone, use the Python utilities provided with each package:"
   ]
  },
  {
   "cell_type": "raw",
   "id": "removed-differential",
   "metadata": {},
   "source": [
    "cd diagnostics_vec/utils\n",
    "python copy_pkg_files_to_MITgcm.py -m ../../MITgcm\n",
    "\n",
    "cd ../../prescribe_vec/utils\n",
    "python copy_pkg_files_to_MITgcm.py -m ../../MITgcm\n",
    "python add_prescribe_vec_to_boot_sequence.py -m ../../MITgcm -c ../example_configurations/global_with_exf/regional"
   ]
  },
  {
   "cell_type": "markdown",
   "id": "enclosed-capability",
   "metadata": {},
   "source": [
    "# The Global Model\n",
    "In the first part of this example, we run the tutorial forward for 30 days. This simulation is nearly identical to the verification experiment provided with MITgcm except that it uses the `diagnostics_vec` package to output the boundary conditions to be used for the subdomain. Accordingly, the code and input directories only have 5 files which differ from the verification experiement:\n",
    "1. code/packages.conf - diagnostics_vec is added\n",
    "2. code/SIZE.h (this experiment runs with mpi)\n",
    "3. input/data (modified to run for 1 month with deltaT = 1200 s)\n",
    "4. input/data.pkg - useDiagnostics_vec is set to .TRUE.\n",
    "5. prepare_run\n",
    "\n",
    "In addition, there are 3 new files associated with the diagnostics_vec package:\n",
    "1. code/DIAGNOSTICS_VEC_SIZE.h\n",
    "2. input/data.diagnostics_vec\n",
    "3. create_dv_masks.py\n",
    "\n",
    "To create the setup, first run the `prepare_run` script to collect all of the code and input files from the core tutorial. Note that this scripts expects the `prescribe_vec` and `MITgcm` clones (from above) to be in the same directory."
   ]
  },
  {
   "cell_type": "raw",
   "id": "rotary-wright",
   "metadata": {},
   "source": [
    "cd prescribe_vec/example_configurations/global_with_exf/global/input\n",
    "bash prepare_run"
   ]
  },
  {
   "cell_type": "markdown",
   "id": "municipal-slave",
   "metadata": {},
   "source": [
    "Next, create the masks for the diagnostics vec package (this will output boundary conditions for the regional model)."
   ]
  },
  {
   "cell_type": "raw",
   "id": "horizontal-rendering",
   "metadata": {},
   "source": [
    "python create_dv_masks.py"
   ]
  },
  {
   "cell_type": "markdown",
   "id": "statewide-cleanup",
   "metadata": {},
   "source": [
    "Next, build the model according to the specifications of your machine, e.g."
   ]
  },
  {
   "cell_type": "raw",
   "id": "opposite-uncle",
   "metadata": {},
   "source": [
    "cd ..\n",
    "mkdir build\n",
    "cd build\n",
    "../../../../../MITgcm/tools/genmake2 -mods ../code -mpi -optfile ../../../../../MITgcm/tools/build_options/darwin_amd64_gfortran_mw -rootdir ../../../../../MITgcm\n",
    "make depend\n",
    "make\n",
    "cd .."
   ]
  },
  {
   "cell_type": "markdown",
   "id": "spatial-posting",
   "metadata": {},
   "source": [
    "Finally, run the model:"
   ]
  },
  {
   "cell_type": "raw",
   "id": "composed-royalty",
   "metadata": {},
   "source": [
    "mkdir run\n",
    "cd run\n",
    "mkdir diags\n",
    "mkdir diags/diagsEXF\n",
    "mkdir diags/diagsDyn\n",
    "cp -r ../input/dv .\n",
    "ln -s ../input/* .\n",
    "mpirun -np 2 ../build/mitgcmuv"
   ]
  },
  {
   "cell_type": "markdown",
   "id": "absent-transsexual",
   "metadata": {},
   "source": [
    "# The Regional Model\n",
    "Next, the output from the global model will be used to prescribe the external forcing and boundary conditions for the regional model. First, we will create the regional model fields in the following steps:\n",
    "1. Subset bathymetry and hydography fields from the global to regional domain; create exf conditions\n",
    "2. Create boundary conditions from the global model output to be applied with the prescribe_vec package\n",
    "3. Copy unchanged files from the core tutorial\n",
    "\n",
    "There are three convenient scripts in the regional/input directory which carry out the steps above:"
   ]
  },
  {
   "cell_type": "raw",
   "id": "bearing-password",
   "metadata": {},
   "source": [
    "cd ../regional/input\n",
    "python subset_regional_fields.py\n",
    "python create_pv_files.py\n",
    "bash prepare_run"
   ]
  },
  {
   "cell_type": "markdown",
   "id": "paperback-nudist",
   "metadata": {},
   "source": [
    "## The prescribe_vec masks\n",
    "The prescribe vec masks are constructed by sequentially enumerating points in the domain in the order in which they are aligned in the presciption fields. In this example, boundary layers are prescribed in a series of 4 masks:"
   ]
  },
  {
   "cell_type": "code",
   "execution_count": 62,
   "id": "useful-means",
   "metadata": {},
   "outputs": [
    {
     "data": {
      "image/png": "[encoded data removed]",
      "text/plain": [
       "<Figure size 432x288 with 2 Axes>"
      ]
     },
     "metadata": {
      "needs_background": "light"
     },
     "output_type": "display_data"
    }
   ],
   "source": [
    "example_dir = '/Users/michwood/Documents/Research/Projects/Ocean_Modeling/'\\\n",
    "              'Projects/prescribe_vec_test/prescribe_vec/example_configurations/global_with_exf'\n",
    "rows = 20\n",
    "cols = 40\n",
    "mask_name = 'north'\n",
    "\n",
    "mask = np.fromfile(os.path.join(example_dir,'regional','input','bcs','BC_'+mask_name+'.bin'),'>f4')\n",
    "mask = np.reshape(mask,(rows,cols))\n",
    "\n",
    "plt.subplot(2,2,1)\n",
    "C = plt.imshow(mask,origin='lower')\n",
    "plt.colorbar(C)\n",
    "plt.show()"
   ]
  },
  {
   "cell_type": "markdown",
   "id": "parliamentary-vector",
   "metadata": {},
   "source": [
    "Next, build the model as was done for the global model"
   ]
  },
  {
   "cell_type": "raw",
   "id": "informed-value",
   "metadata": {},
   "source": [
    "cd ..\n",
    "mkdir build\n",
    "cd build\n",
    "../../../../../MITgcm/tools/genmake2 -mods ../code -mpi -optfile ../../../../../MITgcm/tools/build_options/darwin_amd64_gfortran_mw -rootdir ../../../../../MITgcm\n",
    "make depend\n",
    "make\n",
    "cd .."
   ]
  },
  {
   "cell_type": "markdown",
   "id": "aging-apparatus",
   "metadata": {},
   "source": [
    "Now, the model is ready to run:"
   ]
  },
  {
   "cell_type": "raw",
   "id": "processed-repository",
   "metadata": {},
   "source": [
    "mkdir run\n",
    "cd run\n",
    "mkdir diags\n",
    "mkdir diags/diagsDyn\n",
    "ln -s ../input/* .\n",
    "mpirun -np 4 ../build/mitgcmuv"
   ]
  },
  {
   "cell_type": "markdown",
   "id": "grateful-optimization",
   "metadata": {},
   "source": [
    "# Solution Comparison\n",
    "In this section, we compare solutions between the global model and the regional model. First, we make a function to read in the solutions and plot them. Then, we use an interactive slide to observe the solution through time.\n",
    "## Function to read solution"
   ]
  },
  {
   "cell_type": "code",
   "execution_count": 38,
   "id": "becoming-conversion",
   "metadata": {},
   "outputs": [],
   "source": [
    "import os\n",
    "import numpy as np\n",
    "def read_solution_from_domain(example_dir,domain_name,var_name,n_timesteps):\n",
    "    grid_level = ['UVEL','VVEL','THETA','SALT'].index(var_name.upper())\n",
    "    if domain_name == 'global':\n",
    "        rows = 40\n",
    "        cols = 90\n",
    "    if domain_name == 'regional':\n",
    "        rows = 20\n",
    "        cols = 40\n",
    "    solution_grid = np.zeros((n_timesteps,rows,cols))\n",
    "    for timestep in range(n_timesteps):\n",
    "        file_name = os.path.join(example_dir,domain_name,'run','diags','diagsDyn',\n",
    "                                'diagsDyn.'+'{:010d}'.format(timestep+1)+'.data')\n",
    "        grid = np.fromfile(file_name,'>f4')\n",
    "        grid = grid.reshape((4,rows,cols))\n",
    "        grid = grid[grid_level,:,:]\n",
    "        solution_grid[timestep,:,:] = grid\n",
    "    if domain_name=='global':\n",
    "        min_row = 10\n",
    "        max_row = 29\n",
    "        min_col= 25\n",
    "        max_col = 64\n",
    "        solution_grid = solution_grid[:,min_row:max_row+1,min_col:max_col+1]\n",
    "    return(solution_grid)\n",
    "    "
   ]
  },
  {
   "cell_type": "markdown",
   "id": "economic-baptist",
   "metadata": {},
   "source": [
    "## Function to plot solution comparison"
   ]
  },
  {
   "cell_type": "code",
   "execution_count": 65,
   "id": "effective-planning",
   "metadata": {},
   "outputs": [],
   "source": [
    "import matplotlib.pyplot as plt\n",
    "def plot_solution_panel(time,global_soln,regional_soln,var_name):\n",
    "    var_name_to_bounds = {'Uvel':[-0.2,0.2]}\n",
    "    plt.figure(figsize=(15,10))\n",
    "    plt.subplot(2,3,1)\n",
    "    plt.imshow(global_soln[time,:,:],origin='lower',\n",
    "               vmin=var_name_to_bounds[var_name][0],vmax=var_name_to_bounds[var_name][1])\n",
    "    \n",
    "    plt.subplot(2,3,2)\n",
    "    plt.imshow(regional_soln[time,:,:],origin='lower',\n",
    "               vmin=var_name_to_bounds[var_name][0],vmax=var_name_to_bounds[var_name][1])\n",
    "    \n",
    "    plt.subplot(2,3,3)\n",
    "    difference_matrix = global_soln-regional_soln\n",
    "    plt.imshow(difference_matrix[time,:,:],origin='lower',cmap='seismic',\n",
    "               vmin=var_name_to_bounds[var_name][0],vmax=var_name_to_bounds[var_name][1])\n",
    "    \n",
    "    plt.subplot(2,3,6)\n",
    "    plt.imshow(difference_matrix[time,:,:]==0,origin='lower',cmap='seismic',\n",
    "               vmin=var_name_to_bounds[var_name][0],vmax=var_name_to_bounds[var_name][1])\n",
    "    plt.show()"
   ]
  },
  {
   "cell_type": "code",
   "execution_count": 66,
   "id": "transsexual-garlic",
   "metadata": {},
   "outputs": [
    {
     "data": {
      "application/vnd.jupyter.widget-view+json": {
       "model_id": "5aab65f5ae9f44719c36b1075731381a",
       "version_major": 2,
       "version_minor": 0
      },
      "text/plain": [
       "interactive(children=(IntSlider(value=0, description='time', max=18), Output()), _dom_classes=('widget-interac…"
      ]
     },
     "metadata": {},
     "output_type": "display_data"
    },
    {
     "data": {
      "text/plain": [
       "<function __main__.plot_solution_panel(time, global_soln, regional_soln, var_name)>"
      ]
     },
     "execution_count": 66,
     "metadata": {},
     "output_type": "execute_result"
    }
   ],
   "source": [
    "from ipywidgets import interact, interactive, fixed, interact_manual\n",
    "import ipywidgets as widgets\n",
    "example_dir = '/Users/michwood/Documents/Research/Projects/Ocean_Modeling/'\\\n",
    "              'Projects/prescribe_vec_test/prescribe_vec/example_configurations/global_with_exf'\n",
    "n_timesteps = 19\n",
    "var_name = 'Uvel'\n",
    "global_solution = read_solution_from_domain(example_dir,'global',var_name,n_timesteps)\n",
    "regional_solution = read_solution_from_domain(example_dir,'regional',var_name,n_timesteps)\n",
    "timesteps = np.arange(n_timesteps)\n",
    "interact(plot_solution_panel,\n",
    "         time=widgets.IntSlider(min=0, max=n_timesteps-1, step=1, value=0),\n",
    "         global_soln = fixed(global_solution),\n",
    "         regional_soln = fixed(regional_solution),\n",
    "         var_name = fixed(var_name))"
   ]
  },
  {
   "cell_type": "code",
   "execution_count": 52,
   "id": "behavioral-cross",
   "metadata": {},
   "outputs": [
    {
     "ename": "SyntaxError",
     "evalue": "EOL while scanning string literal (<ipython-input-52-791297725a0d>, line 1)",
     "output_type": "error",
     "traceback": [
      "\u001b[0;36m  File \u001b[0;32m\"<ipython-input-52-791297725a0d>\"\u001b[0;36m, line \u001b[0;32m1\u001b[0m\n\u001b[0;31m    '/Users/michwood/Documents/Research/Projects/Ocean_Modeling/Projects/\u001b[0m\n\u001b[0m                                                                         ^\u001b[0m\n\u001b[0;31mSyntaxError\u001b[0m\u001b[0;31m:\u001b[0m EOL while scanning string literal\n"
     ]
    }
   ],
   "source": [
    "'/Users/michwood/Documents/Research/Projects/Ocean_Modeling/Projects/\n",
    "'prescribe_vec_test/prescribe_vec/example_configurations/global_with_exf/'\n",
    "'global/run/diags/diagsDyn/diagsDyn.0000000001.data'"
   ]
  },
  {
   "cell_type": "code",
   "execution_count": null,
   "id": "exceptional-pathology",
   "metadata": {},
   "outputs": [],
   "source": []
  }
 ],
 "metadata": {
  "kernelspec": {
   "display_name": "mitgcm",
   "language": "python",
   "name": "mitgcm"
  },
  "language_info": {
   "codemirror_mode": {
    "name": "ipython",
    "version": 3
   },
   "file_extension": ".py",
   "mimetype": "text/x-python",
   "name": "python",
   "nbconvert_exporter": "python",
   "pygments_lexer": "ipython3",
   "version": "3.8.10"
  }
 },
 "nbformat": 4,
 "nbformat_minor": 5
}
